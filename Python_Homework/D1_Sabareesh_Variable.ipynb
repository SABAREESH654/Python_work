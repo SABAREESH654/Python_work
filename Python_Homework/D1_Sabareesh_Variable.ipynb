{
  "nbformat": 4,
  "nbformat_minor": 0,
  "metadata": {
    "colab": {
      "provenance": []
    },
    "kernelspec": {
      "name": "python3",
      "display_name": "Python 3"
    },
    "language_info": {
      "name": "python"
    }
  },
  "cells": [
    {
      "cell_type": "markdown",
      "source": [
        "1.Create a variable called break and assign it a value 5. See what happens and find out the reason behind the behavior that you see."
      ],
      "metadata": {
        "id": "wVMKHkI38RKS"
      }
    },
    {
      "cell_type": "code",
      "source": [
        "break=5"
      ],
      "metadata": {
        "colab": {
          "base_uri": "https://localhost:8080/",
          "height": 140
        },
        "id": "jSbieJbc3HLA",
        "outputId": "51ef2fbc-250d-4c6a-9a9d-b1551524d931"
      },
      "execution_count": 4,
      "outputs": [
        {
          "output_type": "error",
          "ename": "SyntaxError",
          "evalue": "ignored",
          "traceback": [
            "\u001b[0;36m  File \u001b[0;32m\"<ipython-input-4-7abc8ab243ff>\"\u001b[0;36m, line \u001b[0;32m1\u001b[0m\n\u001b[0;31m    break=5\u001b[0m\n\u001b[0m         ^\u001b[0m\n\u001b[0;31mSyntaxError\u001b[0m\u001b[0;31m:\u001b[0m invalid syntax\n"
          ]
        }
      ]
    },
    {
      "cell_type": "markdown",
      "source": [
        "2.Create two variables. One to store your birth year and another one to store current year. Now calculate your age using these two variables\n",
        "\n"
      ],
      "metadata": {
        "id": "iMVebXbU8SeC"
      }
    },
    {
      "cell_type": "code",
      "source": [
        "Byear=2004\n",
        "Cyear=2023\n",
        "Calculate_age=Cyear-Byear\n",
        "print(Calculate_age)"
      ],
      "metadata": {
        "id": "nKZYmXB18Tia",
        "colab": {
          "base_uri": "https://localhost:8080/"
        },
        "outputId": "8d537858-6208-49e8-e669-fffb6211f2a6"
      },
      "execution_count": 7,
      "outputs": [
        {
          "output_type": "stream",
          "name": "stdout",
          "text": [
            "19\n"
          ]
        }
      ]
    },
    {
      "cell_type": "markdown",
      "source": [
        "3.Store your first, middle and last name in three different variables and then print your full name using these variables"
      ],
      "metadata": {
        "id": "rf3r5VJp8UAa"
      }
    },
    {
      "cell_type": "code",
      "source": [
        "fname=\"Saba\"\n",
        "mname=\"reesh\"\n",
        "lname=\"Pandian\"\n",
        "fullname=(fname+mname+\" \"+last)\n",
        "print(fullname)"
      ],
      "metadata": {
        "id": "Gv8LOQ588U2M",
        "colab": {
          "base_uri": "https://localhost:8080/"
        },
        "outputId": "8b8a1182-a7b2-412b-8955-696a3236fb32"
      },
      "execution_count": 15,
      "outputs": [
        {
          "output_type": "stream",
          "name": "stdout",
          "text": [
            "Sabareesh Pandian\n"
          ]
        }
      ]
    },
    {
      "cell_type": "markdown",
      "source": [
        "4.Answer which of these are invalid variable names:\n",
        "\n",
        "_nation\n",
        "\n",
        "1record\n",
        "\n",
        "record1\n",
        "\n",
        "record_one\n",
        "\n",
        "record-one\n",
        "\n",
        "record^one\n",
        "\n",
        "continue"
      ],
      "metadata": {
        "id": "Gz1xwjIk8VXa"
      }
    },
    {
      "cell_type": "code",
      "source": [
        "invalid_variable=\"1record,record-one,record^one\"\n",
        "print(invalid_variable)"
      ],
      "metadata": {
        "id": "XT6_e3AS8WEq",
        "colab": {
          "base_uri": "https://localhost:8080/"
        },
        "outputId": "91d6c4ec-d55f-4ef8-d3d4-669a91d873d6"
      },
      "execution_count": 28,
      "outputs": [
        {
          "output_type": "stream",
          "name": "stdout",
          "text": [
            "1record,record-one,record^one\n"
          ]
        }
      ]
    }
  ]
}