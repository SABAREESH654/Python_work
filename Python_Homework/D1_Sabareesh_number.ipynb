{
  "nbformat": 4,
  "nbformat_minor": 0,
  "metadata": {
    "colab": {
      "provenance": []
    },
    "kernelspec": {
      "name": "python3",
      "display_name": "Python 3"
    },
    "language_info": {
      "name": "python"
    }
  },
  "cells": [
    {
      "cell_type": "markdown",
      "source": [
        "1.You have a football field that is 92 meter long and 48.8 meter wide. Find out total area using python and print it."
      ],
      "metadata": {
        "id": "R-VI8C2lwkv1"
      }
    },
    {
      "cell_type": "code",
      "source": [
        "length=92\n",
        "width=48.8\n",
        "total_area=length*width\n",
        "print(\"Total Area:\",total_area)"
      ],
      "metadata": {
        "colab": {
          "base_uri": "https://localhost:8080/"
        },
        "id": "kcLXohFvwsql",
        "outputId": "6522f292-c160-42b0-8024-506217dba1c2"
      },
      "execution_count": null,
      "outputs": [
        {
          "output_type": "stream",
          "name": "stdout",
          "text": [
            "Total Area: 4489.599999999999\n"
          ]
        }
      ]
    },
    {
      "cell_type": "markdown",
      "source": [
        "2.You bought 9 packets of potato chips from a store. Each packet costs 1.49 dollar and you gave shopkeeper 20 dollar. Find out using python, how many dollars is the shopkeeper going to give you back?"
      ],
      "metadata": {
        "id": "U3VM8okIxTuF"
      }
    },
    {
      "cell_type": "code",
      "source": [
        "num_packets=9\n",
        "per_packets_cost=1.49\n",
        "shopkeeper=20.0\n",
        "total_cost=num_packets*per_packets_cost\n",
        "change=shopkeeper-total_cost\n",
        "print(\"Shopkeeper Change:\",change)"
      ],
      "metadata": {
        "colab": {
          "base_uri": "https://localhost:8080/"
        },
        "id": "tnnnkpKixcAX",
        "outputId": "a39cb22c-ca1a-41e8-f38c-cb991fd3f7ea"
      },
      "execution_count": null,
      "outputs": [
        {
          "output_type": "stream",
          "name": "stdout",
          "text": [
            "Shopkeeper Change: 6.59\n"
          ]
        }
      ]
    },
    {
      "cell_type": "markdown",
      "source": [
        "3.You want to replace tiles in your bathroom which is exactly square and 5.5 feet is its length. If tiles cost 500 rs per square feet, how much will be the total cost to replace all tiles. Calculate and print the cost using python (Hint: Use power operator ** to find area of a square)"
      ],
      "metadata": {
        "id": "9hM6i0ipywZt"
      }
    },
    {
      "cell_type": "code",
      "source": [
        "per_tiles_cost=500\n",
        "replace_tiles=5.5\n",
        "total_cost=per_tiles_cost*replace_tiles\n",
        "print(\"Total Cost:\", total_cost)"
      ],
      "metadata": {
        "colab": {
          "base_uri": "https://localhost:8080/"
        },
        "id": "_oKXwKS4y90e",
        "outputId": "3ef03046-3566-40b5-cda9-d9f3cfeb4a70"
      },
      "execution_count": null,
      "outputs": [
        {
          "output_type": "stream",
          "name": "stdout",
          "text": [
            "Total Cost: 2750.0\n"
          ]
        }
      ]
    },
    {
      "cell_type": "markdown",
      "source": [
        "4.Print binary representation of number 17"
      ],
      "metadata": {
        "id": "EtBaeS1d0Qmb"
      }
    },
    {
      "cell_type": "code",
      "source": [
        "number=7\n",
        "B_R=bin(number)\n",
        "print(\"binary_representation:\",B_R)"
      ],
      "metadata": {
        "colab": {
          "base_uri": "https://localhost:8080/"
        },
        "id": "zTBWL25J0Uos",
        "outputId": "e4961f08-d30c-47fd-e295-6d38dec35214"
      },
      "execution_count": null,
      "outputs": [
        {
          "output_type": "stream",
          "name": "stdout",
          "text": [
            "binary_representation: 0b111\n"
          ]
        }
      ]
    }
  ]
}