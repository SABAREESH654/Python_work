{
  "nbformat": 4,
  "nbformat_minor": 0,
  "metadata": {
    "colab": {
      "provenance": []
    },
    "kernelspec": {
      "name": "python3",
      "display_name": "Python 3"
    },
    "language_info": {
      "name": "python"
    }
  },
  "cells": [
    {
      "cell_type": "markdown",
      "source": [
        "1.Create 3 variables to store street, city and country, now create address variable to store entire address. Use two ways of creating this variable, one using + operator and the other using f-string. Now Print the address in such a way that the street, city and country prints in a separate line"
      ],
      "metadata": {
        "id": "F4nHsJpR1ml1"
      }
    },
    {
      "cell_type": "code",
      "source": [
        "Street=\"6-A 1st Street\"\n",
        "City=\"Madurai\"\n",
        "Country=\"India\"\n",
        "Address=Street+\"\\n\"+City+\"\\n\"+Country\n",
        "print(\"Address:\",Address)"
      ],
      "metadata": {
        "colab": {
          "base_uri": "https://localhost:8080/"
        },
        "id": "APnmQ51h1nUj",
        "outputId": "894d630b-bf47-459e-8b68-05b0f5ae5ea9"
      },
      "execution_count": null,
      "outputs": [
        {
          "output_type": "stream",
          "name": "stdout",
          "text": [
            "Address: 6-A 1st Street\n",
            "Madurai\n",
            "India\n"
          ]
        }
      ]
    },
    {
      "cell_type": "markdown",
      "source": [
        "2.Create a variable to store the string \"Earth revolves around the sun\"\n",
        "\n",
        "i.Print \"revolves\" using slice operator\n",
        "\n",
        "ii.Print \"sun\" using negative index"
      ],
      "metadata": {
        "id": "Urjp3VQU3k2t"
      }
    },
    {
      "cell_type": "code",
      "source": [
        "string=\"Earth revolves around the sun\"\n",
        "print(string[6:13])\n",
        "print(string[-3:])"
      ],
      "metadata": {
        "id": "BkUhOwCq3pQU",
        "colab": {
          "base_uri": "https://localhost:8080/"
        },
        "outputId": "87525399-dcd5-4820-d383-fcbb2a2e36de"
      },
      "execution_count": null,
      "outputs": [
        {
          "output_type": "stream",
          "name": "stdout",
          "text": [
            "revolve\n",
            "sun\n"
          ]
        }
      ]
    },
    {
      "cell_type": "markdown",
      "source": [
        "3.Create two variables to store how many fruits and vegetables you eat in a day. Now Print \"I eat x veggies and y fruits daily\" where x and y presents vegetables and fruits that you eat everyday. Use python f string for this.\n",
        "\n"
      ],
      "metadata": {
        "id": "B1q1CLrK74Z9"
      }
    },
    {
      "cell_type": "code",
      "source": [
        "vegetable=\"Potato\"\n",
        "fruit=\"Apple\"\n",
        "print(f\"I eat {vegetable} and {fruit} daily\")"
      ],
      "metadata": {
        "id": "XbPkvFjg79a0",
        "colab": {
          "base_uri": "https://localhost:8080/"
        },
        "outputId": "9b994c0b-b8d4-483b-eaf2-8954c4838f61"
      },
      "execution_count": null,
      "outputs": [
        {
          "output_type": "stream",
          "name": "stdout",
          "text": [
            "I eat Potato and Apple daily\n"
          ]
        }
      ]
    },
    {
      "cell_type": "markdown",
      "source": [
        "4.I have a string variable called s='maine 200 banana khaye'. This of course is a wrong statement, the correct statement is 'maine 10 samosa khaye'. Replace incorrect words in original strong with new ones and print the new string. Also try to do this in one line."
      ],
      "metadata": {
        "id": "ptEBr5Om7-L6"
      }
    },
    {
      "cell_type": "code",
      "source": [
        "s='maine 200 banana khaye'\n",
        "corrected=s.replace(\"maine 200 banana khaye\",\"maine 10 samosa khaye\")\n",
        "print(corrected)"
      ],
      "metadata": {
        "id": "TRKM4yJs8EE6",
        "colab": {
          "base_uri": "https://localhost:8080/"
        },
        "outputId": "3d8e8d3a-75bb-4f46-db77-c0d957cdfc55"
      },
      "execution_count": null,
      "outputs": [
        {
          "output_type": "stream",
          "name": "stdout",
          "text": [
            "maine 10 samosa khaye\n"
          ]
        }
      ]
    }
  ]
}